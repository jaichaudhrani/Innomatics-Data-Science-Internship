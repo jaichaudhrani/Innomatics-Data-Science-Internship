{
 "cells": [
  {
   "cell_type": "code",
   "execution_count": 20,
   "id": "8679b790",
   "metadata": {},
   "outputs": [
    {
     "name": "stdout",
     "output_type": "stream",
     "text": [
      "Shape = (9742, 3)\n"
     ]
    }
   ],
   "source": [
    "import pandas as pd\n",
    "data = pd.read_csv(\"movies.csv\")\n",
    "shape = data.shape\n",
    "print(\"Shape = {}\".format(shape))"
   ]
  },
  {
   "cell_type": "code",
   "execution_count": 19,
   "id": "8957d274",
   "metadata": {},
   "outputs": [
    {
     "name": "stdout",
     "output_type": "stream",
     "text": [
      "Shape = (100836, 4)\n"
     ]
    }
   ],
   "source": [
    "import pandas as pd\n",
    "data = pd.read_csv(\"ratings.csv\")\n",
    "shape = data.shape\n",
    "print(\"Shape = {}\".format(shape))"
   ]
  },
  {
   "cell_type": "code",
   "execution_count": 3,
   "id": "f9058b7b",
   "metadata": {},
   "outputs": [
    {
     "name": "stdout",
     "output_type": "stream",
     "text": [
      "Number of unique userIds: 610\n"
     ]
    }
   ],
   "source": [
    "import pandas as pd\n",
    "ratings_data = pd.read_csv(\"ratings.csv\")\n",
    "unique_user_ids = ratings_data['userId'].unique()\n",
    "num_unique_user_ids = len(unique_user_ids)\n",
    "print(\"Number of unique userIds:\", num_unique_user_ids)"
   ]
  },
  {
   "cell_type": "code",
   "execution_count": 4,
   "id": "d9f07fae",
   "metadata": {},
   "outputs": [
    {
     "name": "stdout",
     "output_type": "stream",
     "text": [
      "The movie with the maximum number of user ratings is: Forrest Gump (1994)\n"
     ]
    }
   ],
   "source": [
    "import pandas as pd\n",
    "ratings_data = pd.read_csv(\"ratings.csv\")\n",
    "movie_ratings_count = ratings_data['movieId'].value_counts()\n",
    "max_rated_movie_id = movie_ratings_count.idxmax()\n",
    "movies_data = pd.read_csv(\"movies.csv\")\n",
    "max_rated_movie_title = movies_data.loc[movies_data['movieId'] == max_rated_movie_id, 'title'].values[0]\n",
    "print(f\"The movie with the maximum number of user ratings is: {max_rated_movie_title}\")"
   ]
  },
  {
   "cell_type": "code",
   "execution_count": 5,
   "id": "7a375a90",
   "metadata": {},
   "outputs": [
    {
     "name": "stdout",
     "output_type": "stream",
     "text": [
      "Tags submitted by users for 'Matrix, The (1999)':\n",
      "['martial arts' 'sci-fi' 'alternate universe' 'philosophy'\n",
      " 'post apocalyptic']\n"
     ]
    }
   ],
   "source": [
    "import pandas as pd\n",
    "tags_data = pd.read_csv(\"tags.csv\")\n",
    "movies_data = pd.read_csv(\"movies.csv\")\n",
    "matrix_movie_id = movies_data.loc[movies_data['title'] == 'Matrix, The (1999)', 'movieId'].values[0]\n",
    "matrix_tags = tags_data.loc[tags_data['movieId'] == matrix_movie_id, 'tag']\n",
    "print(\"Tags submitted by users for 'Matrix, The (1999)':\")\n",
    "print(matrix_tags.unique())"
   ]
  },
  {
   "cell_type": "code",
   "execution_count": 8,
   "id": "9c8acf1d",
   "metadata": {},
   "outputs": [
    {
     "name": "stdout",
     "output_type": "stream",
     "text": [
      "The average user rating for 'Terminator 2: Judgment Day (1991)' is: 3.97\n"
     ]
    }
   ],
   "source": [
    "import pandas as pd\n",
    "ratings_data = pd.read_csv(\"ratings.csv\")\n",
    "movies_data = pd.read_csv(\"movies.csv\")\n",
    "terminator_movie_id = movies_data.loc[movies_data['title'] == 'Terminator 2: Judgment Day (1991)', 'movieId'].values[0]\n",
    "terminator_ratings = ratings_data.loc[ratings_data['movieId'] == terminator_movie_id, 'rating']\n",
    "average_rating = terminator_ratings.mean()\n",
    "print(f\"The average user rating for 'Terminator 2: Judgment Day (1991)' is: {average_rating:.2f}\")"
   ]
  },
  {
   "cell_type": "code",
   "execution_count": 9,
   "id": "f62b34f7",
   "metadata": {},
   "outputs": [
    {
     "data": {
      "image/png": "[encoded data removed]",
      "text/plain": [
       "<Figure size 432x288 with 1 Axes>"
      ]
     },
     "metadata": {
      "needs_background": "light"
     },
     "output_type": "display_data"
    }
   ],
   "source": [
    "import pandas as pd\n",
    "import matplotlib.pyplot as plt\n",
    "ratings_data = pd.read_csv(\"ratings.csv\")\n",
    "movies_data = pd.read_csv(\"movies.csv\")\n",
    "fight_club_movie_id = movies_data.loc[movies_data['title'] == 'Fight Club (1999)', 'movieId'].values[0]\n",
    "fight_club_ratings = ratings_data.loc[ratings_data['movieId'] == fight_club_movie_id, 'rating']\n",
    "plt.hist(fight_club_ratings, bins=5, edgecolor='black')\n",
    "plt.title('User Ratings Distribution for \"Fight Club (1999)\"')\n",
    "plt.xlabel('Rating')\n",
    "plt.ylabel('Number of Users')\n",
    "plt.show()"
   ]
  },
  {
   "cell_type": "code",
   "execution_count": 10,
   "id": "dce4f006",
   "metadata": {},
   "outputs": [
    {
     "name": "stdout",
     "output_type": "stream",
     "text": [
      "   movieId                    title  \\\n",
      "0        1         Toy Story (1995)   \n",
      "1        2           Jumanji (1995)   \n",
      "2        3  Grumpier Old Men (1995)   \n",
      "5        6              Heat (1995)   \n",
      "6        7           Sabrina (1995)   \n",
      "\n",
      "                                        genres  rating_count  rating_mean  \n",
      "0  Adventure|Animation|Children|Comedy|Fantasy           215     3.920930  \n",
      "1                   Adventure|Children|Fantasy           110     3.431818  \n",
      "2                               Comedy|Romance            52     3.259615  \n",
      "5                        Action|Crime|Thriller           102     3.946078  \n",
      "6                               Comedy|Romance            54     3.185185  \n"
     ]
    }
   ],
   "source": [
    "import pandas as pd\n",
    "ratings_file_path = \"ratings.csv\"\n",
    "movies_file_path = \"movies.csv\"\n",
    "ratings_data = pd.read_csv(ratings_file_path)\n",
    "grouped_ratings = ratings_data.groupby('movieId').agg({'rating': ['count', 'mean']}).reset_index()\n",
    "grouped_ratings.columns = ['movieId', 'rating_count', 'rating_mean']\n",
    "movies_data = pd.read_csv(movies_file_path)\n",
    "merged_data = pd.merge(movies_data, grouped_ratings, on='movieId', how='inner')\n",
    "filtered_data = merged_data[merged_data['rating_count'] > 50]\n",
    "print(filtered_data.head())"
   ]
  },
  {
   "cell_type": "code",
   "execution_count": 11,
   "id": "31341b70",
   "metadata": {},
   "outputs": [
    {
     "name": "stdout",
     "output_type": "stream",
     "text": [
      "The most popular movie based on average user ratings is:\n",
      "title          Shawshank Redemption, The (1994)\n",
      "rating_mean                            4.429022\n",
      "Name: 277, dtype: object\n"
     ]
    }
   ],
   "source": [
    "most_popular_movie = filtered_data.loc[filtered_data['rating_mean'].idxmax()]\n",
    "print(\"The most popular movie based on average user ratings is:\")\n",
    "print(most_popular_movie[['title', 'rating_mean']])"
   ]
  },
  {
   "cell_type": "code",
   "execution_count": 12,
   "id": "a578c0d8",
   "metadata": {},
   "outputs": [
    {
     "name": "stdout",
     "output_type": "stream",
     "text": [
      "Top 5 popular movies based on number of user ratings:\n",
      "                                 title  rating_count\n",
      "314                Forrest Gump (1994)           329\n",
      "277   Shawshank Redemption, The (1994)           317\n",
      "257                Pulp Fiction (1994)           307\n",
      "510   Silence of the Lambs, The (1991)           279\n",
      "1938                Matrix, The (1999)           278\n"
     ]
    }
   ],
   "source": [
    "top_movies_by_ratings = filtered_data.sort_values(by='rating_count', ascending=False).head(5)\n",
    "print(\"Top 5 popular movies based on number of user ratings:\")\n",
    "print(top_movies_by_ratings[['title', 'rating_count']])"
   ]
  },
  {
   "cell_type": "code",
   "execution_count": 15,
   "id": "6b073afa",
   "metadata": {},
   "outputs": [
    {
     "name": "stdout",
     "output_type": "stream",
     "text": [
      "The third most popular Sci-Fi movie based on number of user ratings is:\n",
      "title           Jurassic Park (1993)\n",
      "rating_count                     238\n",
      "Name: 418, dtype: object\n"
     ]
    }
   ],
   "source": [
    "sci_fi_movies = filtered_data[filtered_data['genres'].str.contains('Sci-Fi')]\n",
    "sorted_sci_fi_movies = sci_fi_movies.sort_values(by='rating_count', ascending=False)\n",
    "third_most_popular_sci_fi_movie = sorted_sci_fi_movies.iloc[2]\n",
    "print(\"The third most popular Sci-Fi movie based on number of user ratings is:\")\n",
    "print(third_most_popular_sci_fi_movie[['title', 'rating_count']])"
   ]
  },
  {
   "cell_type": "code",
   "execution_count": 16,
   "id": "b9d50f22",
   "metadata": {},
   "outputs": [
    {
     "name": "stdout",
     "output_type": "stream",
     "text": [
      "The movie with the highest IMDb rating is:\n",
      "movieId     193587.0\n",
      "imdbId     8391976.0\n",
      "Name: 9740, dtype: float64\n"
     ]
    }
   ],
   "source": [
    "import pandas as pd\n",
    "your_imdb_ratings_data = pd.read_csv(\"links.csv\")\n",
    "highest_rated_movie = your_imdb_ratings_data.loc[your_imdb_ratings_data['imdbId'].idxmax()]\n",
    "print(\"The movie with the highest IMDb rating is:\")\n",
    "print(highest_rated_movie[['movieId', 'imdbId']])"
   ]
  },
  {
   "cell_type": "code",
   "execution_count": 18,
   "id": "58b12789",
   "metadata": {},
   "outputs": [
    {
     "name": "stdout",
     "output_type": "stream",
     "text": [
      "The Sci-Fi movie with the highest IMDb rating has movieId: 179053\n"
     ]
    }
   ],
   "source": [
    "import pandas as pd\n",
    "imdb_ratings_data = pd.read_csv(\"links.csv\")\n",
    "movies_data = pd.read_csv(\"movies.csv\")\n",
    "merged_data = pd.merge(imdb_ratings_data, movies_data, on='movieId', how='inner')\n",
    "sci_fi_movies = merged_data[merged_data['genres'].str.contains('Sci-Fi')]\n",
    "highest_rated_sci_fi_movie = sci_fi_movies.loc[sci_fi_movies['imdbId'].idxmax()]\n",
    "print(\"The Sci-Fi movie with the highest IMDb rating has movieId:\", highest_rated_sci_fi_movie['movieId'])"
   ]
  }
 ],
 "metadata": {
  "kernelspec": {
   "display_name": "Python 3 (ipykernel)",
   "language": "python",
   "name": "python3"
  },
  "language_info": {
   "codemirror_mode": {
    "name": "ipython",
    "version": 3
   },
   "file_extension": ".py",
   "mimetype": "text/x-python",
   "name": "python",
   "nbconvert_exporter": "python",
   "pygments_lexer": "ipython3",
   "version": "3.11.4"
  }
 },
 "nbformat": 4,
 "nbformat_minor": 5
}
